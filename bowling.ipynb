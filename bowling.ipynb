{
 "cells": [
  {
   "cell_type": "markdown",
   "metadata": {},
   "source": [
    "# Bowling Kata"
   ]
  },
  {
   "cell_type": "markdown",
   "metadata": {},
   "source": [
    "- Hacer una clase que haga cosas.\n",
    "- Class name: BowlingCard\n",
    "- ADT tipo de dato abstracto\n",
    "- 10 frames (10 rondas)\n",
    "- Último frame puede tener 3 bolas.\n",
    "- Crear requirements.txt\n",
    "\n",
    "- No hace falta importar pytest si no hay markers.\n",
    "\n",
    "- Acceder a los datos a traves de un get algo ej. def get_pins(self)."
   ]
  },
  {
   "cell_type": "markdown",
   "metadata": {},
   "source": [
    "## Posibles nombres:\n",
    "\n",
    "- strike : Cuando tira todos los bolos.\n",
    "- spare : Cuando tira todos los bolos en la segunda tirada\n",
    "- miss : Cuando no tira ningún bolo \n",
    "- foul : si salta alguna linea\n",
    "\n",
    "- first_roll : Primer lanzamiento (puntuación)\n",
    "- second_roll : Segundo lanzamiento (puntuación)\n",
    "- frame : total (puntuación)"
   ]
  },
  {
   "cell_type": "markdown",
   "metadata": {},
   "source": [
    "## Pins (bolos)\n",
    "\n",
    "      1\n",
    "    2   3\n",
    "   4  5  6\n",
    " 7   8   9  10\n"
   ]
  },
  {
   "cell_type": "markdown",
   "metadata": {},
   "source": [
    "## Tener por ejemplo: \n",
    "- self: instancia\n",
    "- rolls: parámetro\n",
    "- self.rolls: atributo de instancia\n",
    "\n",
    "## Que podría testear:\n",
    "- test_score_card\n",
    "- test_get_pins"
   ]
  },
  {
   "cell_type": "markdown",
   "metadata": {},
   "source": [
    "En el init se ponen las nuevas variables juntos a self.\n",
    "\n",
    "ejemplo:"
   ]
  },
  {
   "cell_type": "code",
   "execution_count": null,
   "metadata": {},
   "outputs": [],
   "source": [
    "def  __init__ (self, rolls):\n",
    "    self.rolls = rolls"
   ]
  },
  {
   "cell_type": "code",
   "execution_count": null,
   "metadata": {},
   "outputs": [],
   "source": [
    "def __init__(self, score_card):\n",
    "    self.pins = score_card\n",
    "    self.LAST_FRAME\n",
    "    self.frame = 1\n",
    "    self.score = 0"
   ]
  },
  {
   "cell_type": "markdown",
   "metadata": {},
   "source": [
    "#### Otro Ejemplo:"
   ]
  },
  {
   "cell_type": "code",
   "execution_count": null,
   "metadata": {},
   "outputs": [],
   "source": [
    "game = BowlingCard(\"9-x4/32\")\n",
    "self.table_score\n",
    "new_game = BowlingCard(xxxxxxx)"
   ]
  },
  {
   "cell_type": "markdown",
   "metadata": {},
   "source": [
    "Primer caso test recomendado:"
   ]
  },
  {
   "cell_type": "code",
   "execution_count": null,
   "metadata": {},
   "outputs": [],
   "source": [
    "def test_score_card():\n",
    "    card = ScoreCard(\"12345123451234512345\")\n",
    "    assert card is not None\n",
    "\n",
    "# lo que se debe escribir al principio sin tener la clase es el def __init__"
   ]
  }
 ],
 "metadata": {
  "language_info": {
   "name": "python"
  }
 },
 "nbformat": 4,
 "nbformat_minor": 2
}
